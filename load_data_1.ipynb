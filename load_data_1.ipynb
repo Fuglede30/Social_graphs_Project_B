{
 "cells": [
  {
   "cell_type": "code",
   "execution_count": null,
   "metadata": {},
   "outputs": [
    {
     "name": "stdout",
     "output_type": "stream",
     "text": [
      "100 movies in dataset\n"
     ]
    }
   ],
   "source": [
    "import pandas as pd\n",
    "import networkx as nx\n",
    "from imdb import IMDb\n",
    "from concurrent.futures import ThreadPoolExecutor, as_completed\n",
    "import time\n",
    "import matplotlib.pyplot as plt\n",
    "from collections import Counter\n",
    "import pickle\n",
    "\n",
    "# Load the CSVs and merge on 'movieId'\n",
    "links_df = pd.read_csv('ml-latest-small/links.csv')\n",
    "movies_df = pd.read_csv('ml-latest-small/movies.csv')\n",
    "movies = pd.merge(links_df, movies_df, on='movieId')\n",
    "\n",
    "# Adjustable variables\n",
    "num_movies = len(movies)  # Number of movies to process\n",
    "num_threads = 5  # Number of threads for concurrent requests\n",
    "\n",
    "# Filter to the first `num_movies`\n",
    "sample_movies = movies.head(num_movies)\n",
    "\n",
    "print(num_movies, 'movies in dataset')"
   ]
  },
  {
   "cell_type": "markdown",
   "metadata": {},
   "source": [
    "load movie data"
   ]
  },
  {
   "cell_type": "code",
   "execution_count": null,
   "metadata": {},
   "outputs": [],
   "source": [
    "# Initialize IMDb API\n",
    "ia = IMDb()\n",
    "\n",
    "# Define a function to fetch data for each movie\n",
    "def fetch_movie_data(row):\n",
    "    movie_id = row['movieId']\n",
    "    imdb_id = str(row['imdbId']).zfill(7)  # IMDb IDs are zero-padded to 7 digits\n",
    "    \n",
    "    try:\n",
    "        # Retrieve movie data from IMDb\n",
    "        movie = ia.get_movie(imdb_id)\n",
    "        title = movie.get('title')\n",
    "        genre = movie.get('genres', [])\n",
    "        rating = movie.get('rating')\n",
    "        year = movie.get('year')\n",
    "        \n",
    "        # Get all the actors in the movie\n",
    "        cast = movie.get('cast', [])\n",
    "        actors = [(actor.personID, actor['name']) for actor in cast]\n",
    "        \n",
    "        # Return movie data and associated actors\n",
    "        return {\n",
    "            'movie_id': movie_id,\n",
    "            'title': title,\n",
    "            'genre': genre,\n",
    "            'actors': actors,\n",
    "            'rating': rating,\n",
    "            'year': year\n",
    "        }\n",
    "\n",
    "    except Exception:\n",
    "        print(f\"Error loading movie: {row['title']}. Retrying...\")\n",
    "        return fetch_movie_data(row)  # Retry fetching the same movie data\n",
    "\n",
    "# Fetch movie data concurrently without a delay\n",
    "movie_data_list = []\n",
    "with ThreadPoolExecutor(max_workers=num_threads) as executor:\n",
    "    # Submit all fetch tasks\n",
    "    futures = [executor.submit(fetch_movie_data, row) for _, row in sample_movies.iterrows()]\n",
    "    \n",
    "    # Collect results as they complete\n",
    "    for future in as_completed(futures):\n",
    "        result = future.result()\n",
    "        if result:  # Only add successful fetches\n",
    "            movie_data_list.append(result)\n"
   ]
  },
  {
   "cell_type": "markdown",
   "metadata": {},
   "source": [
    "create graph"
   ]
  },
  {
   "cell_type": "code",
   "execution_count": 3,
   "metadata": {},
   "outputs": [
    {
     "name": "stdout",
     "output_type": "stream",
     "text": [
      "Number of movie nodes: 9703\n",
      "Total edges in the graph: 1183130\n"
     ]
    }
   ],
   "source": [
    "# Initialize a NetworkX graph\n",
    "G = nx.Graph()\n",
    "\n",
    "# Dictionary to store which movies each actor appears in\n",
    "actor_to_movies = {}\n",
    "\n",
    "# Populate the actor_to_movies dictionary\n",
    "for movie_data in movie_data_list:\n",
    "    movie_id = movie_data['movie_id']\n",
    "    title = movie_data['title']\n",
    "    genre = movie_data['genre']\n",
    "    actors = movie_data['actors']\n",
    "    rating = movie_data['rating']\n",
    "    year = movie_data['year']\n",
    "    \n",
    "    # Add movie node with attributes\n",
    "    G.add_node(movie_id, type='movie', title=title, genre=genre, actors=actors, rating=rating, year=year)\n",
    "    \n",
    "    # Associate each actor with this movie in `actor_to_movies`\n",
    "    for actor_id in actors:\n",
    "        if actor_id not in actor_to_movies:\n",
    "            actor_to_movies[actor_id] = []\n",
    "        actor_to_movies[actor_id].append(movie_id)\n",
    "\n",
    "# Create edges between movies that share at least one actor\n",
    "for actor, movies in actor_to_movies.items():\n",
    "    # Create edges between each pair of movies this actor has been in\n",
    "    for i in range(len(movies)):\n",
    "        for j in range(i + 1, len(movies)):\n",
    "            movie1 = movies[i]\n",
    "            movie2 = movies[j]\n",
    "            # Add an edge between movies that share this actor\n",
    "            G.add_edge(movie1, movie2)\n",
    "\n",
    "# Check graph summary\n",
    "print(\"Number of movie nodes:\", G.number_of_nodes())\n",
    "print(\"Total edges in the graph:\", G.number_of_edges())"
   ]
  },
  {
   "cell_type": "code",
   "execution_count": 4,
   "metadata": {},
   "outputs": [],
   "source": [
    "# Remove isolated nodes (those without any edges)\n",
    "isolated_nodes = [node for node in G if G.degree(node) == 0]\n",
    "G.remove_nodes_from(isolated_nodes)"
   ]
  },
  {
   "cell_type": "markdown",
   "metadata": {},
   "source": [
    "Save graph to a pickle file"
   ]
  },
  {
   "cell_type": "code",
   "execution_count": 8,
   "metadata": {},
   "outputs": [],
   "source": [
    "# Save the graph as a pickle file\n",
    "with open('Movie_network.gpickle', 'wb') as f:\n",
    "    pickle.dump(G, f, pickle.HIGHEST_PROTOCOL)"
   ]
  }
 ],
 "metadata": {
  "anaconda-cloud": {},
  "kernelspec": {
   "display_name": "base",
   "language": "python",
   "name": "python3"
  },
  "language_info": {
   "codemirror_mode": {
    "name": "ipython",
    "version": 3
   },
   "file_extension": ".py",
   "mimetype": "text/x-python",
   "name": "python",
   "nbconvert_exporter": "python",
   "pygments_lexer": "ipython3",
   "version": "3.11.5"
  }
 },
 "nbformat": 4,
 "nbformat_minor": 4
}
